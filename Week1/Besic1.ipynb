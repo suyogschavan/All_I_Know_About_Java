{
 "cells": [
  {
   "cell_type": "code",
   "execution_count": 3,
   "metadata": {},
   "outputs": [
    {
     "name": "stdout",
     "output_type": "stream",
     "text": [
      "Hello world?\n",
      "\n",
      "*\n",
      "**\n",
      "***\n",
      "****\n",
      "*****\n",
      "******\n",
      "*******\n",
      "********\n",
      "*********\n",
      "**********\n",
      "***********\n",
      "************\n",
      "*************\n",
      "**************\n",
      "***************\n",
      "****************\n",
      "*****************\n",
      "******************\n",
      "*******************\n",
      "********************\n",
      "*********************\n",
      "**********************\n",
      "***********************\n",
      "************************\n",
      "*************************\n",
      "**************************\n",
      "***************************\n",
      "****************************\n",
      "*****************************\n",
      "******************************\n",
      "*******************************\n",
      "********************************\n",
      "*********************************\n",
      "**********************************\n",
      "***********************************\n",
      "************************************\n",
      "*************************************\n",
      "**************************************\n",
      "***************************************\n",
      "****************************************\n",
      "*****************************************\n",
      "******************************************\n",
      "*******************************************\n",
      "********************************************\n",
      "*********************************************\n",
      "**********************************************\n",
      "***********************************************\n",
      "************************************************\n",
      "*************************************************\n"
     ]
    }
   ],
   "source": [
    "print(\"Hello world?\")\n",
    "for i in range(50):\n",
    "    for j in range(i):\n",
    "        print(\"*\", end=\"\")\n",
    "    print()"
   ]
  },
  {
   "cell_type": "code",
   "execution_count": 6,
   "metadata": {},
   "outputs": [
    {
     "name": "stdout",
     "output_type": "stream",
     "text": [
      "SuyogSuyogSuyogSuyogSuyogSuyogSuyogSuyogSuyogSuyogSuyogSuyogSuyogSuyogSuyogSuyogSuyogSuyogSuyogSuyogSuyogSuyogSuyogSuyogSuyogSuyogSuyogSuyogSuyogSuyogSuyogSuyogSuyogSuyogSuyogSuyogSuyogSuyogSuyogSuyogSuyogSuyogSuyogSuyogSuyogSuyogSuyogSuyogSuyogSuyogSuyogSuyogSuyogSuyogSuyogSuyogSuyogSuyogSuyogSuyogSuyogSuyogSuyogSuyogSuyogSuyogSuyogSuyogSuyogSuyogSuyogSuyogSuyogSuyogSuyogSuyogSuyogSuyogSuyogSuyogSuyogSuyogSuyogSuyogSuyogSuyogSuyogSuyogSuyogSuyogSuyogSuyogSuyogSuyogSuyogSuyogSuyogSuyogSuyogSuyogSuyogSuyogSuyogSuyogSuyogSuyogSuyogSuyogSuyogSuyogSuyogSuyogSuyogSuyogSuyogSuyogSuyogSuyogSuyogSuyogSuyogSuyogSuyogSuyogSuyogSuyogSuyogSuyogSuyogSuyogSuyogSuyogSuyogSuyogSuyogSuyogSuyogSuyogSuyogSuyogSuyogSuyogSuyogSuyogSuyogSuyogSuyogSuyogSuyogSuyogSuyogSuyogSuyogSuyogSuyogSuyogSuyogSuyogSuyogSuyogSuyogSuyogSuyogSuyogSuyogSuyogSuyogSuyogSuyogSuyogSuyogSuyogSuyogSuyogSuyogSuyogSuyogSuyogSuyogSuyogSuyogSuyogSuyogSuyogSuyogSuyogSuyogSuyogSuyogSuyogSuyogSuyogSuyogSuyogSuyogSuyogSuyogSuyogSuyogSuyogSuyogSuyogSuyogSuyogSuyogSuyogSuyogSuyogSuyogSuyogSuyogSuyogSuyogSuyogSuyogSuyogSuyogSuyogSuyogSuyogSuyogSuyogSuyogSuyogSuyogSuyogSuyogSuyogSuyogSuyogSuyogSuyogSuyogSuyogSuyogSuyogSuyogSuyogSuyogSuyogSuyogSuyogSuyogSuyogSuyogSuyogSuyogSuyogSuyogSuyogSuyogSuyogSuyogSuyogSuyogSuyogSuyogSuyogSuyogSuyogSuyogSuyogSuyogSuyogSuyogSuyogSuyogSuyogSuyogSuyogSuyogSuyogSuyogSuyogSuyogSuyogSuyogSuyogSuyogSuyogSuyogSuyogSuyogSuyogSuyogSuyogSuyogSuyogSuyogSuyogSuyogSuyogSuyogSuyogSuyogSuyogSuyogSuyogSuyogSuyogSuyogSuyogSuyogSuyogSuyogSuyogSuyogSuyogSuyogSuyogSuyogSuyogSuyogSuyogSuyogSuyogSuyogSuyogSuyogSuyogSuyogSuyogSuyogSuyogSuyogSuyogSuyogSuyogSuyogSuyogSuyogSuyogSuyogSuyogSuyogSuyogSuyogSuyogSuyogSuyogSuyogSuyogSuyogSuyogSuyogSuyogSuyogSuyogSuyogSuyogSuyogSuyogSuyogSuyogSuyogSuyogSuyogSuyogSuyogSuyogSuyogSuyogSuyogSuyogSuyogSuyogSuyogSuyogSuyogSuyogSuyogSuyogSuyogSuyogSuyogSuyogSuyogSuyogSuyogSuyogSuyogSuyogSuyogSuyogSuyogSuyogSuyogSuyogSuyogSuyogSuyogSuyogSuyogSuyogSuyogSuyogSuyogSuyogSuyogSuyogSuyogSuyogSuyogSuyogSuyogSuyogSuyogSuyogSuyogSuyogSuyogSuyogSuyogSuyogSuyogSuyogSuyogSuyogSuyogSuyogSuyogSuyogSuyogSuyogSuyogSuyogSuyogSuyogSuyogSuyogSuyogSuyogSuyogSuyogSuyogSuyogSuyogSuyogSuyogSuyogSuyogSuyogSuyogSuyogSuyogSuyogSuyogSuyogSuyogSuyogSuyogSuyogSuyogSuyogSuyogSuyogSuyogSuyogSuyogSuyogSuyogSuyogSuyogSuyogSuyogSuyogSuyogSuyogSuyogSuyogSuyogSuyogSuyogSuyogSuyogSuyogSuyogSuyogSuyogSuyogSuyogSuyogSuyogSuyogSuyogSuyogSuyogSuyogSuyogSuyogSuyogSuyogSuyogSuyogSuyogSuyogSuyogSuyogSuyogSuyogSuyogSuyogSuyogSuyogSuyogSuyogSuyogSuyogSuyogSuyogSuyogSuyogSuyogSuyogSuyogSuyogSuyogSuyogSuyogSuyogSuyogSuyogSuyogSuyogSuyogSuyogSuyogSuyogSuyogSuyogSuyogSuyogSuyogSuyogSuyogSuyogSuyogSuyogSuyogSuyogSuyogSuyogSuyogSuyogSuyogSuyogSuyogSuyogSuyogSuyogSuyogSuyogSuyogSuyogSuyogSuyogSuyogSuyogSuyogSuyogSuyogSuyogSuyogSuyogSuyogSuyogSuyogSuyogSuyogSuyogSuyogSuyogSuyogSuyogSuyogSuyogSuyogSuyogSuyogSuyogSuyogSuyogSuyogSuyogSuyogSuyogSuyogSuyogSuyogSuyogSuyogSuyogSuyogSuyogSuyogSuyogSuyogSuyogSuyogSuyogSuyogSuyogSuyogSuyogSuyogSuyogSuyogSuyogSuyogSuyogSuyogSuyogSuyogSuyogSuyogSuyogSuyogSuyogSuyogSuyogSuyogSuyogSuyogSuyogSuyogSuyogSuyogSuyogSuyogSuyogSuyogSuyogSuyogSuyogSuyogSuyogSuyogSuyogSuyogSuyogSuyogSuyogSuyogSuyogSuyogSuyogSuyogSuyogSuyogSuyogSuyogSuyogSuyogSuyogSuyogSuyogSuyogSuyogSuyogSuyogSuyogSuyogSuyogSuyogSuyogSuyogSuyogSuyogSuyogSuyogSuyogSuyogSuyogSuyogSuyogSuyogSuyogSuyogSuyogSuyogSuyogSuyogSuyogSuyogSuyogSuyogSuyogSuyogSuyogSuyogSuyogSuyogSuyogSuyogSuyogSuyogSuyogSuyogSuyogSuyogSuyogSuyogSuyogSuyogSuyogSuyogSuyogSuyogSuyogSuyogSuyogSuyogSuyogSuyogSuyogSuyogSuyogSuyogSuyogSuyogSuyogSuyogSuyogSuyogSuyogSuyogSuyogSuyogSuyogSuyogSuyogSuyogSuyogSuyogSuyogSuyogSuyogSuyogSuyogSuyogSuyogSuyogSuyogSuyogSuyogSuyogSuyogSuyogSuyogSuyogSuyogSuyogSuyogSuyogSuyogSuyogSuyogSuyogSuyogSuyogSuyogSuyogSuyogSuyogSuyogSuyogSuyogSuyogSuyogSuyogSuyogSuyogSuyogSuyogSuyogSuyogSuyogSuyogSuyogSuyogSuyogSuyogSuyogSuyogSuyogSuyogSuyogSuyogSuyogSuyogSuyogSuyogSuyogSuyogSuyogSuyogSuyogSuyogSuyogSuyogSuyogSuyogSuyogSuyogSuyogSuyogSuyogSuyogSuyogSuyogSuyogSuyogSuyogSuyogSuyogSuyogSuyogSuyogSuyogSuyogSuyogSuyogSuyogSuyogSuyogSuyogSuyogSuyogSuyogSuyogSuyogSuyogSuyogSuyogSuyogSuyogSuyogSuyogSuyogSuyogSuyogSuyogSuyogSuyogSuyogSuyogSuyogSuyogSuyogSuyogSuyogSuyogSuyogSuyogSuyogSuyogSuyogSuyogSuyogSuyogSuyogSuyogSuyogSuyogSuyogSuyogSuyogSuyogSuyogSuyogSuyogSuyogSuyogSuyogSuyogSuyogSuyogSuyogSuyogSuyogSuyogSuyogSuyogSuyogSuyogSuyogSuyogSuyogSuyogSuyogSuyogSuyogSuyogSuyogSuyogSuyogSuyogSuyogSuyogSuyogSuyogSuyogSuyogSuyogSuyogSuyogSuyogSuyogSuyogSuyogSuyogSuyogSuyogSuyogSuyogSuyogSuyogSuyogSuyogSuyogSuyogSuyogSuyogSuyogSuyogSuyogSuyogSuyogSuyogSuyogSuyogSuyogSuyogSuyogSuyogSuyogSuyogSuyogSuyogSuyogSuyogSuyogSuyogSuyogSuyogSuyogSuyogSuyogSuyogSuyogSuyogSuyogSuyogSuyogSuyogSuyogSuyogSuyogSuyogSuyogSuyogSuyogSuyogSuyogSuyogSuyogSuyogSuyogSuyogSuyogSuyogSuyogSuyogSuyogSuyogSuyogSuyogSuyogSuyogSuyogSuyogSuyogSuyogSuyogSuyogSuyogSuyogSuyogSuyogSuyogSuyogSuyogSuyogSuyogSuyogSuyogSuyogSuyogSuyogSuyog"
     ]
    }
   ],
   "source": [
    "for i in range(1000):\n",
    "    print(\"Suyog\",end=\"\")\n"
   ]
  },
  {
   "cell_type": "code",
   "execution_count": 7,
   "metadata": {},
   "outputs": [
    {
     "data": {
      "text/plain": [
       "3.0"
      ]
     },
     "execution_count": 7,
     "metadata": {},
     "output_type": "execute_result"
    }
   ],
   "source": [
    "import math\n",
    "math.sqrt(9)\n",
    "\n"
   ]
  },
  {
   "cell_type": "code",
   "execution_count": 4,
   "metadata": {},
   "outputs": [
    {
     "name": "stdout",
     "output_type": "stream",
     "text": [
      "0 : 1\n",
      "1 : 2\n",
      "2 : 3\n",
      "3 : 4\n",
      "4 : 5\n",
      "5 : 6\n",
      "6 : 7\n",
      "7 : 8\n",
      "8 : 9\n"
     ]
    }
   ],
   "source": [
    "list1=[1,2,3,4,5,6,7,8,9]\n",
    "# list2=list(1,2,3,4,5,6,7,8,9)\n",
    "for i in range(len(list1)):\n"
   ]
  },
  {
   "cell_type": "code",
   "execution_count": null,
   "metadata": {},
   "outputs": [],
   "source": []
  }
 ],
 "metadata": {
  "kernelspec": {
   "display_name": "Python 3.10.6 64-bit",
   "language": "python",
   "name": "python3"
  },
  "language_info": {
   "codemirror_mode": {
    "name": "ipython",
    "version": 3
   },
   "file_extension": ".py",
   "mimetype": "text/x-python",
   "name": "python",
   "nbconvert_exporter": "python",
   "pygments_lexer": "ipython3",
   "version": "3.10.6"
  },
  "orig_nbformat": 4,
  "vscode": {
   "interpreter": {
    "hash": "aee8b7b246df8f9039afb4144a1f6fd8d2ca17a180786b69acc140d282b71a49"
   }
  }
 },
 "nbformat": 4,
 "nbformat_minor": 2
}
